{
 "cells": [
  {
   "cell_type": "markdown",
   "id": "43493d12",
   "metadata": {},
   "source": [
    "# <font color=blue> Linear Regression Assignment - BoomBikes "
   ]
  },
  {
   "cell_type": "markdown",
   "id": "1f82b89c",
   "metadata": {},
   "source": [
    "## <font color=green> Problem Statement"
   ]
  },
  {
   "cell_type": "markdown",
   "id": "ae9081ad",
   "metadata": {},
   "source": [
    "- BoomBikes has recently suffered considerable dips in their revenues due to the ongoing Corona pandemic. The company is finding it very difficult to sustain in the current market scenario.\n",
    "\n",
    "\n",
    "- Need to find a mindful business plan to be able to accelerate its revenue as soon as the ongoing lockdown comes to an end, and the economy restores to a healthy state. \n",
    "\n",
    "\n",
    "- BoomBikes aspires to understand the demand for shared bikes among the people after this ongoing quarantine situation ends across the nation due to Covid-19. \n",
    "\n",
    "\n",
    "- They have planned this to prepare themselves to cater to the people's needs once the situation gets better all around and stand out from other service providers and make huge profits.\n",
    "\n",
    "\n",
    "- <font color=blue>***They want to understand the factors affecting the demand for these shared bikes in the American market. The company wants to know:***</font><br>\n",
    "    **1. Which variables are significant in predicting the demand for shared bikes.**<br>\n",
    "    **2. How well those variables describe the bike demands**"
   ]
  },
  {
   "cell_type": "markdown",
   "id": "3075cd12",
   "metadata": {},
   "source": [
    "## <font color=green> Steps to be followed :"
   ]
  },
  {
   "cell_type": "markdown",
   "id": "d4b91ed0",
   "metadata": {},
   "source": [
    "1. Understanding and analysing the data\n",
    "\n",
    "2. Data Preprocessing\n",
    "\n",
    "3. Training the model\n",
    "\n",
    "4. Residual analysis\n",
    "\n",
    "5. Model Evaluation"
   ]
  },
  {
   "cell_type": "markdown",
   "id": "12e7e640",
   "metadata": {},
   "source": [
    "## <font color=green> Understanding and analysing the data"
   ]
  },
  {
   "cell_type": "markdown",
   "id": "0fee1f7e",
   "metadata": {},
   "source": [
    "###  <font color=brown>Importing the needful libraries"
   ]
  },
  {
   "cell_type": "code",
   "execution_count": null,
   "id": "aad9d332",
   "metadata": {},
   "outputs": [],
   "source": [
    "import numpy as np\n",
    "import pandas as pd\n",
    "import seaborn as sns \n",
    "import matplotlib.pyplot as plt\n",
    "%matplotlib inline\n",
    "\n",
    "from sklearn.linear_model import LinearRegression \n",
    "from sklearn.model_selection import train_test_split\n",
    "from sklearn.preprocessing import MinMaxScaler\n",
    "from sklearn.feature_selection import RFE\n",
    "from sklearn.metrics import r2_score,mean_squared_error\n",
    "\n",
    "from statsmodels.stats.outliers_influence import variance_inflation_factor\n",
    "import statsmodels.api as sm\n",
    "\n",
    "import warnings\n",
    "warnings.filterwarnings('ignore')"
   ]
  },
  {
   "cell_type": "markdown",
   "id": "df5be18d",
   "metadata": {},
   "source": [
    "###  <font color=brown>Data Understanding"
   ]
  },
  {
   "cell_type": "markdown",
   "id": "47755caf",
   "metadata": {},
   "source": [
    "<font color=blue> ***Dataset Characteristics***</font>\n",
    "\n",
    "=========================================\t\n",
    "\n",
    "- day.csv have the following fields:\n",
    "\t- instant: record index\n",
    "\t- dteday : date\n",
    "\t- season : season (1:spring, 2:summer, 3:fall, 4:winter)\n",
    "\t- yr : year (0: 2018, 1:2019)\n",
    "\t- mnth : month ( 1 to 12)\n",
    "\t- holiday : weather day is a holiday or not (extracted from http://dchr.dc.gov/page/holiday-schedule)\n",
    "\t- weekday : day of the week\n",
    "\t- workingday : if day is neither weekend nor holiday is 1, otherwise is 0.\n",
    "\t- weathersit :\n",
    "        - 1: Clear, Few clouds, Partly cloudy, Partly cloudy\n",
    "\t\t- 2: Mist + Cloudy, Mist + Broken clouds, Mist + Few clouds, Mist\n",
    "\t\t- 3: Light Snow, Light Rain + Thunderstorm + Scattered clouds, Light Rain + Scattered clouds\n",
    "\t\t- 4: Heavy Rain + Ice Pallets + Thunderstorm + Mist, Snow + Fog\n",
    "\t- temp : temperature in Celsius\n",
    "\t- atemp: feeling temperature in Celsius\n",
    "\t- hum: humidity\n",
    "\t- windspeed: wind speed\n",
    "\t- casual: count of casual users\n",
    "\t- registered: count of registered users\n",
    "\t- cnt: count of total rental bikes including both casual and registered\t"
   ]
  },
  {
   "cell_type": "code",
   "execution_count": null,
   "id": "6820b474",
   "metadata": {},
   "outputs": [],
   "source": [
    "# Reading the data \n",
    "df = pd.read_csv(\"day.csv\")"
   ]
  },
  {
   "cell_type": "code",
   "execution_count": null,
   "id": "f5248330",
   "metadata": {},
   "outputs": [],
   "source": [
    "# Checking the top 5 data\n",
    "df.head()"
   ]
  },
  {
   "cell_type": "code",
   "execution_count": null,
   "id": "e2ca5674",
   "metadata": {},
   "outputs": [],
   "source": [
    "# Checking the information of data \n",
    "df.info()"
   ]
  },
  {
   "cell_type": "code",
   "execution_count": null,
   "id": "d31350f1",
   "metadata": {},
   "outputs": [],
   "source": [
    "# Checking the description of the dataset\n",
    "df.describe()"
   ]
  },
  {
   "cell_type": "code",
   "execution_count": null,
   "id": "7a610dc7",
   "metadata": {},
   "outputs": [],
   "source": [
    "# Checking the shape of the dataset \n",
    "df.shape"
   ]
  },
  {
   "cell_type": "markdown",
   "id": "61007cc0",
   "metadata": {},
   "source": [
    "## <font color=green> Data Preprocessing"
   ]
  },
  {
   "cell_type": "markdown",
   "id": "61254679",
   "metadata": {},
   "source": [
    "### <font color=brown>Dealing with Numerical variables"
   ]
  },
  {
   "cell_type": "code",
   "execution_count": null,
   "id": "76fc1414",
   "metadata": {},
   "outputs": [],
   "source": [
    "#visualizing the numeric variables of the dataset using pairplot \n",
    "sns.pairplot(df, vars=[\"instant\",\"temp\", \"hum\",\"casual\",\"windspeed\",\"registered\",\"atemp\",\"cnt\"])\n",
    "plt.show()"
   ]
  },
  {
   "cell_type": "code",
   "execution_count": null,
   "id": "ea9484df",
   "metadata": {},
   "outputs": [],
   "source": [
    "plt.figure(figsize=(16,8))\n",
    "sns.heatmap(df[[\"instant\",\"temp\", \"hum\",\"casual\",\"windspeed\",\"registered\",\"atemp\",\"cnt\"]].corr(),annot=True)"
   ]
  },
  {
   "cell_type": "code",
   "execution_count": null,
   "id": "cdb08cb8",
   "metadata": {},
   "outputs": [],
   "source": [
    "sns.pairplot(df, x_vars=[\"temp\",'atemp', 'windspeed',\"hum\",'casual','registered'],y_vars=['cnt'],hue ='yr')\n",
    "plt.show()"
   ]
  },
  {
   "cell_type": "markdown",
   "id": "e5552b99",
   "metadata": {},
   "source": [
    "###### <font color=blue>Interpretation from above plots :</font>\n",
    "\n",
    "1. There is strong correlation between feature \"temp\" and \"atemp\" : so one of them can dropped\n",
    "    \n",
    "    \n",
    "2. There is strong correlation between \"temp\" and target varibale \"cnt\"\n",
    "\n",
    "    \n",
    "3. There is strong correlation between \"registered\" and target varibale \"cnt\"\n",
    "\n",
    "    \n",
    "4. There is strong correlation between \"casual\" and target varibale \"cnt\"\n",
    "\n",
    "    \n",
    "5. There is strong correlation between \"instant\" and target varibale \"cnt\"\n",
    "\n",
    "\n",
    "- We will further analyse whether these are important for our analysis"
   ]
  },
  {
   "cell_type": "markdown",
   "id": "2e715fc6",
   "metadata": {},
   "source": [
    "###  <font color=brown>Dealing with categorical variables\n",
    "\n",
    "- We have following categirical variables:\n",
    "    - season\n",
    "    - weekday\n",
    "    - mnth : Month\n",
    "    - weathersit\n",
    "    \n",
    "    \n",
    "- ***These already in the numirical format, but as they are not the ordinal varibles so we have to convert these into dummy varibales***"
   ]
  },
  {
   "cell_type": "markdown",
   "id": "b3d9a243",
   "metadata": {},
   "source": [
    "##### Mapping categorical varibales"
   ]
  },
  {
   "cell_type": "code",
   "execution_count": null,
   "id": "ab04bf2e",
   "metadata": {},
   "outputs": [],
   "source": [
    "df[\"season\"] = df[\"season\"].map({1: 'spring', 2: 'summer',3:'fall', 4:'winter' })\n",
    "df['mnth']=df.mnth.map({1:'Jan',2:'Feb',3:'Mar',4:'Apr',5:'May',6:'June',7:'July',8:'Aug',9:'Sep',10:'Oct',11:'Nov',12:'Dec'})\n",
    "df['weathersit']=df.weathersit.map({1: 'Clear',2:'Mist + Cloudy',3:'Light Snow',4:'Snow + Fog'})\n",
    "df['weekday']=df.weekday.map({0:'Sun',1:'Mon',2:'Tue',3:'Wed',4:'Thu',5:'Fri',6:'Sat'})"
   ]
  },
  {
   "cell_type": "code",
   "execution_count": null,
   "id": "6a3afdea",
   "metadata": {},
   "outputs": [],
   "source": [
    "df.head()"
   ]
  },
  {
   "cell_type": "markdown",
   "id": "c408dfad",
   "metadata": {},
   "source": [
    "***visualizing the categorical variables of the dataset using boxplot***"
   ]
  },
  {
   "cell_type": "code",
   "execution_count": null,
   "id": "722e6a5b",
   "metadata": {},
   "outputs": [],
   "source": [
    "plt.figure(figsize=(24, 18))\n",
    "\n",
    "# Significance of feature \"season\" with the target variable \"cnt\" \n",
    "plt.subplot(3, 3, 1)\n",
    "sns.boxplot(x='season', y='cnt', data=df)\n",
    "\n",
    "# Significance of feature \"mnth\" with the target variable \"cnt\" \n",
    "plt.subplot(3, 3, 2)\n",
    "sns.boxplot(x='mnth', y='cnt', data=df)\n",
    "\n",
    "# Significance of feature \"weekday\" with the target variable \"cnt\" \n",
    "plt.subplot(3, 3, 3)\n",
    "sns.boxplot(x='weekday', y='cnt', data=df)\n",
    "\n",
    "# Significance of feature \"weathersit\" with the target variable \"cnt\" \n",
    "plt.subplot(3, 3, 4)\n",
    "sns.boxplot(x='weathersit', y='cnt', data=df)\n",
    "\n",
    "# Significance of feature \"yr\" with the target variable \"cnt\" \n",
    "plt.subplot(3, 3, 5)\n",
    "sns.boxplot(x='yr', y='cnt', data=df)\n",
    "\n",
    "# Significance of feature \"workingday\" with the target variable \"cnt\" \n",
    "plt.subplot(3, 3, 6)\n",
    "sns.boxplot(x='workingday', y='cnt', data=df)\n",
    "\n",
    "# Significance of feature \"holiday\" with the target variable \"cnt\" \n",
    "plt.subplot(3, 3, 7)\n",
    "sns.boxplot(x='holiday', y='cnt', data=df)\n",
    "plt.show()"
   ]
  },
  {
   "cell_type": "markdown",
   "id": "224858ba",
   "metadata": {},
   "source": [
    "##### <font color=blue>Some of the observations from the plots above are as follows:</font>\n",
    "\n",
    "1. <b>\"Season\" Vs \"cnt\" :</b> \n",
    "    - People are more likely to rent bikes in the summer and the fall season\n",
    "    - Comparatively low in spring season\n",
    "\n",
    "\n",
    "2. <b>\"mnth\" Vs \"cnt\" :</b>\n",
    "    - Bike rental increasing after April and decreasing from October to December\n",
    "    - Bike rental rates are the highest in September and October\n",
    "\n",
    "\n",
    "3. <b>\"weekday\" Vs \"cnt\" :</b>\n",
    "    - Comapratively not so much change on weekdays\n",
    "    - Higher on Saturday amd Wednesday\n",
    "\n",
    "\n",
    "4. <b>\"weekday\" Vs \"cnt\" :</b>\n",
    "    - Most bike rents on clear weather and low when weather is light snow\n",
    "\n",
    "    \n",
    "5. <b>\"yr\" Vs \"cnt\" :</b>\n",
    "    - Bike rent increased from 2018 to 2019\n",
    "\n",
    "\n",
    "6. <b>\"workingday\" Vs \"cnt\" :</b>\n",
    "    - There is no significant difference in bike rent on working day or not\n",
    "\n",
    "\n",
    "7. <b>\"holiday\" Vs \"cnt\" :</b>\n",
    "    - Bike rental rates low on holidays"
   ]
  },
  {
   "cell_type": "markdown",
   "id": "19882581",
   "metadata": {},
   "source": [
    "###  <font color=brown>Adding dummy varibales for the categorical features"
   ]
  },
  {
   "cell_type": "code",
   "execution_count": null,
   "id": "099e5c30",
   "metadata": {},
   "outputs": [],
   "source": [
    "# Creating dummy variables for the variables of month, weekday, weathersit, seasons\n",
    "Month = pd.get_dummies(df.mnth, drop_first=True)\n",
    "Weekday = pd.get_dummies(df.weekday, drop_first=True)\n",
    "Weathersit = pd.get_dummies(df.weathersit, drop_first=True)\n",
    "Season = pd.get_dummies(df.season, drop_first=True)\n",
    "\n",
    "# Keeping drop first True, so that we can avoild one extra column"
   ]
  },
  {
   "cell_type": "code",
   "execution_count": null,
   "id": "40d9f689",
   "metadata": {},
   "outputs": [],
   "source": [
    "Month.head()\n",
    "# When all entries are zero then it will be April Month"
   ]
  },
  {
   "cell_type": "code",
   "execution_count": null,
   "id": "96d35654",
   "metadata": {},
   "outputs": [],
   "source": [
    "Weekday.head()\n",
    "# When all entries are zero then it will be Tuesday"
   ]
  },
  {
   "cell_type": "code",
   "execution_count": null,
   "id": "df33bbdc",
   "metadata": {},
   "outputs": [],
   "source": [
    "Weathersit.head()\n",
    "# When all entries are zero then it will be Clear weather"
   ]
  },
  {
   "cell_type": "code",
   "execution_count": null,
   "id": "d4c38fb2",
   "metadata": {},
   "outputs": [],
   "source": [
    "Season.head()\n",
    "# When all entries are zero then it will be fall season"
   ]
  },
  {
   "cell_type": "code",
   "execution_count": null,
   "id": "46aa434f",
   "metadata": {},
   "outputs": [],
   "source": [
    "# We will add these dummy varibles to our dataframe and will remove the original varibale\n",
    "df = pd.concat([df,Month, Weekday, Weathersit, Season], axis=1)\n",
    "df.head(5)"
   ]
  },
  {
   "cell_type": "code",
   "execution_count": null,
   "id": "28dc973c",
   "metadata": {},
   "outputs": [],
   "source": [
    "df.shape"
   ]
  },
  {
   "cell_type": "code",
   "execution_count": null,
   "id": "2c686c51",
   "metadata": {},
   "outputs": [],
   "source": [
    "# Dropping the variables season,mnth,weekday,weathersit as we have created the dummies for it\n",
    "df.drop(['season','mnth','weekday','weathersit'], axis = 1, inplace = True)\n",
    "df.head()"
   ]
  },
  {
   "cell_type": "code",
   "execution_count": null,
   "id": "2d610d22",
   "metadata": {},
   "outputs": [],
   "source": [
    "df.shape"
   ]
  },
  {
   "cell_type": "markdown",
   "id": "4c11d529",
   "metadata": {},
   "source": [
    "###  <font color=brown>Data Cleaning"
   ]
  },
  {
   "cell_type": "code",
   "execution_count": null,
   "id": "3eb2ae08",
   "metadata": {},
   "outputs": [],
   "source": [
    "# Checking for null values\n",
    "df.isnull().sum()"
   ]
  },
  {
   "cell_type": "markdown",
   "id": "93fe2912",
   "metadata": {},
   "source": [
    "###  <font color=brown>Removing the unnecessary columns"
   ]
  },
  {
   "cell_type": "markdown",
   "id": "93801ae8",
   "metadata": {},
   "source": [
    "- Feature 'instant' is record index so it is not significant for the model\n",
    "- Feature 'dteday' can be removed as there are other feature which explains the date \n",
    "- Feature 'atemp' can be removed as there is \"temp\" column which is similar\n",
    "- Feature 'registered' can be removed as it is not significant\n",
    "- Feature 'casual' can be removed as it is not significant\n",
    "- 'cnt' is sum of casual and registered users "
   ]
  },
  {
   "cell_type": "code",
   "execution_count": null,
   "id": "8e9d02f7",
   "metadata": {},
   "outputs": [],
   "source": [
    "df = df.drop(['instant','dteday','atemp','registered','casual'],axis =1)"
   ]
  },
  {
   "cell_type": "code",
   "execution_count": null,
   "id": "dee5bd3a",
   "metadata": {},
   "outputs": [],
   "source": [
    "df.shape"
   ]
  },
  {
   "cell_type": "code",
   "execution_count": null,
   "id": "9cb91289",
   "metadata": {},
   "outputs": [],
   "source": [
    "df.info()"
   ]
  },
  {
   "cell_type": "code",
   "execution_count": null,
   "id": "12c8d858",
   "metadata": {},
   "outputs": [],
   "source": [
    "df.describe().T"
   ]
  },
  {
   "cell_type": "markdown",
   "id": "90f93b98",
   "metadata": {},
   "source": [
    "## <font color=green> Training the Model"
   ]
  },
  {
   "cell_type": "markdown",
   "id": "e0f99364",
   "metadata": {},
   "source": [
    "###  <font color=brown>Splitting the Data into Training and Testing Sets"
   ]
  },
  {
   "cell_type": "code",
   "execution_count": null,
   "id": "e6bc4d1a",
   "metadata": {},
   "outputs": [],
   "source": [
    "df_train , df_test = train_test_split(df,train_size=0.7,random_state=100)"
   ]
  },
  {
   "cell_type": "code",
   "execution_count": null,
   "id": "f0a1baac",
   "metadata": {},
   "outputs": [],
   "source": [
    "df_train.shape"
   ]
  },
  {
   "cell_type": "code",
   "execution_count": null,
   "id": "81cd89d3",
   "metadata": {},
   "outputs": [],
   "source": [
    "df_test.shape"
   ]
  },
  {
   "cell_type": "markdown",
   "id": "b2c5d2b4",
   "metadata": {},
   "source": [
    "###  <font color=brown>Scaling the Variables"
   ]
  },
  {
   "cell_type": "markdown",
   "id": "a12aa394",
   "metadata": {},
   "source": [
    "- Will rescale the numerical variables hum,temp,windspeed,cnt\n",
    "- we can use MinMaxScaler() method"
   ]
  },
  {
   "cell_type": "code",
   "execution_count": null,
   "id": "9d12e5a9",
   "metadata": {},
   "outputs": [],
   "source": [
    "df.describe().T"
   ]
  },
  {
   "cell_type": "code",
   "execution_count": null,
   "id": "5a25b377",
   "metadata": {},
   "outputs": [],
   "source": [
    "scaler = MinMaxScaler()"
   ]
  },
  {
   "cell_type": "code",
   "execution_count": null,
   "id": "56a1629d",
   "metadata": {},
   "outputs": [],
   "source": [
    "# Create a list of Numerical Variables which need to Scaled\n",
    "num_vars = ['temp', 'windspeed',\"hum\",'cnt']"
   ]
  },
  {
   "cell_type": "code",
   "execution_count": null,
   "id": "49b4a9d4",
   "metadata": {},
   "outputs": [],
   "source": [
    "# For the Training Data Fit and Transform both need to done.\n",
    "df_train[num_vars]=scaler.fit_transform(df_train[num_vars])"
   ]
  },
  {
   "cell_type": "code",
   "execution_count": null,
   "id": "c7339352",
   "metadata": {},
   "outputs": [],
   "source": [
    "# View the Statistical Description to ensure MinMax Scaling has done properly\n",
    "df_train.describe().T"
   ]
  },
  {
   "cell_type": "markdown",
   "id": "9af2e704",
   "metadata": {},
   "source": [
    "**We can see MinMax Scaling has been done: Minimum value is 0 for each of the Feature and Maximum value is 1 for all of the Feature**"
   ]
  },
  {
   "cell_type": "markdown",
   "id": "6861e781",
   "metadata": {},
   "source": [
    "###  <font color=brown>Preparing the training dataset"
   ]
  },
  {
   "cell_type": "code",
   "execution_count": null,
   "id": "fd158c9b",
   "metadata": {},
   "outputs": [],
   "source": [
    "y_train = df_train.pop(\"cnt\") "
   ]
  },
  {
   "cell_type": "code",
   "execution_count": null,
   "id": "af2bcb2e",
   "metadata": {},
   "outputs": [],
   "source": [
    "x_train = df_train"
   ]
  },
  {
   "cell_type": "code",
   "execution_count": null,
   "id": "b68d6a19",
   "metadata": {},
   "outputs": [],
   "source": [
    "x_train.shape"
   ]
  },
  {
   "cell_type": "code",
   "execution_count": null,
   "id": "89f9921c",
   "metadata": {},
   "outputs": [],
   "source": [
    "y_train.shape"
   ]
  },
  {
   "cell_type": "code",
   "execution_count": null,
   "id": "53fb0e76",
   "metadata": {},
   "outputs": [],
   "source": [
    "x_train.head()"
   ]
  },
  {
   "cell_type": "code",
   "execution_count": null,
   "id": "73571a34",
   "metadata": {},
   "outputs": [],
   "source": [
    "y_train.head()"
   ]
  },
  {
   "cell_type": "markdown",
   "id": "0352be77",
   "metadata": {},
   "source": [
    "###  <font color=brown>Building Model using statsmodels"
   ]
  },
  {
   "cell_type": "markdown",
   "id": "56850ba8",
   "metadata": {},
   "source": [
    "##### Model with only one variable \"temp\" variable"
   ]
  },
  {
   "cell_type": "code",
   "execution_count": null,
   "id": "145289fc",
   "metadata": {},
   "outputs": [],
   "source": [
    "#Adding the constant for the intercept as in sm by default the line passes through origin \n",
    "X_train_sm = sm.add_constant(x_train[\"temp\"])\n",
    "\n",
    "#Creating the Model\n",
    "lr = sm.OLS(y_train,X_train_sm)\n",
    "lr_model = lr.fit()\n",
    "\n",
    "#Checkin the parameters of the model\n",
    "lr_model.params"
   ]
  },
  {
   "cell_type": "code",
   "execution_count": null,
   "id": "47fb69e4",
   "metadata": {},
   "outputs": [],
   "source": [
    "#Checking model summary \n",
    "lr_model.summary()"
   ]
  },
  {
   "cell_type": "markdown",
   "id": "f9fbabfb",
   "metadata": {},
   "source": [
    "- ***Here R Square is 0.416 that means variable \"temp\" explains the 41.6% variance***"
   ]
  },
  {
   "cell_type": "code",
   "execution_count": null,
   "id": "3f360af8",
   "metadata": {},
   "outputs": [],
   "source": [
    "# Line Visualization\n",
    "\n",
    "plt.scatter(X_train_sm.iloc[:,1],y_train)\n",
    "plt.plot(X_train_sm.iloc[:,1],0.6409*X_train_sm.iloc[:, 1] + 0.1690 ,'g');"
   ]
  },
  {
   "cell_type": "markdown",
   "id": "1a0d2544",
   "metadata": {},
   "source": [
    "##### Now, we will add one more variable \"yr\""
   ]
  },
  {
   "cell_type": "code",
   "execution_count": null,
   "id": "c7983fd5",
   "metadata": {},
   "outputs": [],
   "source": [
    "#Adding the constant for the intercept as in sm by default the line passes through origin \n",
    "X_train_sm = sm.add_constant(x_train[[\"temp\",\"yr\"]])\n",
    "\n",
    "#Creating the Model\n",
    "lr = sm.OLS(y_train,X_train_sm)\n",
    "lr_model = lr.fit()\n",
    "\n",
    "#Checkin the parameters of the model\n",
    "lr_model.params"
   ]
  },
  {
   "cell_type": "code",
   "execution_count": null,
   "id": "389b2b89",
   "metadata": {},
   "outputs": [],
   "source": [
    "#Checking model summary \n",
    "lr_model.summary()"
   ]
  },
  {
   "cell_type": "markdown",
   "id": "a53ef864",
   "metadata": {},
   "source": [
    "- ***Here R Square is 0.692 that means variable \"temp\" and \"yr\" explains the 69.2% variance***"
   ]
  },
  {
   "cell_type": "markdown",
   "id": "e8b61a8e",
   "metadata": {},
   "source": [
    "##### Now, we will calculate for all variables"
   ]
  },
  {
   "cell_type": "code",
   "execution_count": null,
   "id": "c49a7207",
   "metadata": {},
   "outputs": [],
   "source": [
    "#building model with all variables\n",
    "X_train_sm = sm.add_constant(x_train)\n",
    "\n",
    "#Creating the model\n",
    "lr = sm.OLS(y_train, X_train_sm)\n",
    "lr_model = lr.fit()\n",
    "\n",
    "#Checking the parameters\n",
    "lr_model.params"
   ]
  },
  {
   "cell_type": "code",
   "execution_count": null,
   "id": "d880f5e9",
   "metadata": {},
   "outputs": [],
   "source": [
    "#Checking model summary \n",
    "lr_model.summary()"
   ]
  },
  {
   "cell_type": "markdown",
   "id": "f6d83716",
   "metadata": {},
   "source": [
    "***R-squared is now .853 which means 85% of the variance in the count quantity is explained with all the variables***"
   ]
  },
  {
   "cell_type": "markdown",
   "id": "dc4d344f",
   "metadata": {},
   "source": [
    "###  <font color=brown>Building Model by using features selected by RFE"
   ]
  },
  {
   "cell_type": "code",
   "execution_count": null,
   "id": "25a9d653",
   "metadata": {},
   "outputs": [],
   "source": [
    "# Checking the number of columns in our dataset\n",
    "len(df.columns)"
   ]
  },
  {
   "cell_type": "code",
   "execution_count": null,
   "id": "987839ac",
   "metadata": {},
   "outputs": [],
   "source": [
    "# Creating the RFE Object\n",
    "lm = LinearRegression()\n",
    "lm.fit(x_train, y_train)\n",
    "\n",
    "\n",
    "# Setting feature selection variables to 15\n",
    "rfe = RFE(lm, n_features_to_select = 15) \n",
    "\n",
    "# Fitting RFE object on our training dataset\n",
    "rfe = rfe.fit(x_train, y_train)"
   ]
  },
  {
   "cell_type": "code",
   "execution_count": null,
   "id": "81a07dda",
   "metadata": {},
   "outputs": [],
   "source": [
    "# Checking the elements selected and the ones rejected in a list\n",
    "list(zip(x_train.columns, rfe.support_, rfe.ranking_))"
   ]
  },
  {
   "cell_type": "code",
   "execution_count": null,
   "id": "8844b769",
   "metadata": {},
   "outputs": [],
   "source": [
    "# Checking the selected feature variables by RFE\n",
    "selected_rfe = x_train.columns[rfe.support_]\n",
    "print(selected_rfe)\n",
    "print(f\"length : {len(selected_rfe)}\")"
   ]
  },
  {
   "cell_type": "code",
   "execution_count": null,
   "id": "a1219248",
   "metadata": {},
   "outputs": [],
   "source": [
    "#creating training set with RFE selected variables\n",
    "x_train_rfe = x_train[selected_rfe]"
   ]
  },
  {
   "cell_type": "code",
   "execution_count": null,
   "id": "49c02913",
   "metadata": {},
   "outputs": [],
   "source": [
    "#Adding the constant for the intercept as in sm by default the line passes through origin \n",
    "X_train_rfe = sm.add_constant(x_train_rfe)\n",
    "\n",
    "#Creating the Model\n",
    "lr = sm.OLS(y_train,X_train_sm)\n",
    "lr_model = lr.fit()\n",
    "\n",
    "#Checkin the parameters of the model\n",
    "lr_model.params"
   ]
  },
  {
   "cell_type": "code",
   "execution_count": null,
   "id": "4f65964e",
   "metadata": {},
   "outputs": [],
   "source": [
    "#Checking model summary \n",
    "lr_model.summary()"
   ]
  },
  {
   "cell_type": "markdown",
   "id": "2d33fc41",
   "metadata": {},
   "source": [
    "###  <font color=brown>Checking the VIF to deal with multicollinearity problem"
   ]
  },
  {
   "cell_type": "markdown",
   "id": "82f8f490",
   "metadata": {},
   "source": [
    "##### <font color=orange>How to check the conditions for variables elimination :</font>\n",
    "\n",
    "- We check VIF and P-values so can have 3 conditions:\n",
    "    1. Both are high : Need to be drop\n",
    "    2. High-Low:\n",
    "        - High p-value, low VIF : remove these first, then build model again and check VIF again      \n",
    "        - Low p-value, high VIF : remove these later          \n",
    "    3. Both are low : Keep variable"
   ]
  },
  {
   "cell_type": "code",
   "execution_count": null,
   "id": "8f828345",
   "metadata": {},
   "outputs": [],
   "source": [
    "# Dropping the constant variables from the dataset\n",
    "X_train_rfe = X_train_rfe.drop(['const'], axis = 1)"
   ]
  },
  {
   "cell_type": "code",
   "execution_count": null,
   "id": "edbcee63",
   "metadata": {},
   "outputs": [],
   "source": [
    "#calculating the VIF of the model\n",
    "vif = pd.DataFrame()\n",
    "X = X_train_rfe\n",
    "vif['Features'] = X.columns\n",
    "vif['VIF'] = [variance_inflation_factor(X.values, i) for i in range(X.shape[1])]\n",
    "vif['VIF'] = round(vif['VIF'], 2)\n",
    "vif = vif.sort_values(by = 'VIF', ascending = False)\n",
    "vif"
   ]
  },
  {
   "cell_type": "code",
   "execution_count": null,
   "id": "fa66e2e8",
   "metadata": {},
   "outputs": [],
   "source": [
    "# \"workingday\" variable can be dropped due to high VIF\n",
    "X_train_new_1 = X_train_rfe.drop(['workingday'], axis = 1)"
   ]
  },
  {
   "cell_type": "code",
   "execution_count": null,
   "id": "668237d5",
   "metadata": {},
   "outputs": [],
   "source": [
    "#adding constant to training variable\n",
    "X_train_lr1 = sm.add_constant(X_train_new_1)\n",
    "\n",
    "#creating first training model with rfe selected variables\n",
    "lr = sm.OLS(y_train, X_train_lr1)\n",
    "lr_model = lr.fit()\n",
    "\n",
    "#summary\n",
    "lr_model.summary()"
   ]
  },
  {
   "cell_type": "code",
   "execution_count": null,
   "id": "e45c3f9e",
   "metadata": {},
   "outputs": [],
   "source": [
    "#checking the VIF of the model \n",
    "\n",
    "#dropping the constant variables from the dataset\n",
    "X_train_lr1 = X_train_lr1.drop(['const'], axis = 1)"
   ]
  },
  {
   "cell_type": "code",
   "execution_count": null,
   "id": "dc09135d",
   "metadata": {},
   "outputs": [],
   "source": [
    "#calculating the VIF of the model\n",
    "vif = pd.DataFrame()\n",
    "X = X_train_new_1\n",
    "vif['Features'] = X.columns\n",
    "vif['VIF'] = [variance_inflation_factor(X.values, i) for i in range(X.shape[1])]\n",
    "vif['VIF'] = round(vif['VIF'], 2)\n",
    "vif = vif.sort_values(by = 'VIF', ascending = False)\n",
    "vif"
   ]
  },
  {
   "cell_type": "code",
   "execution_count": null,
   "id": "602eaa51",
   "metadata": {},
   "outputs": [],
   "source": [
    "# \"Sat\" variable can be dropped due to Low VIF and High p-value\n",
    "X_train_new_2 = X_train_lr1.drop(['Sat'], axis = 1)"
   ]
  },
  {
   "cell_type": "code",
   "execution_count": null,
   "id": "7beb01a2",
   "metadata": {},
   "outputs": [],
   "source": [
    "# Adding constant to training variable\n",
    "X_train_lr2 = sm.add_constant(X_train_new_2)\n",
    "\n",
    "#creating first training model with rfe selected variables\n",
    "lr = sm.OLS(y_train, X_train_lr2)\n",
    "lr_model = lr.fit()\n",
    "\n",
    "#Summary\n",
    "lr_model.summary()"
   ]
  },
  {
   "cell_type": "code",
   "execution_count": null,
   "id": "2a96d5e2",
   "metadata": {},
   "outputs": [],
   "source": [
    "#checking the VIF of the model \n",
    "\n",
    "#dropping the constant variables from the dataset\n",
    "X_train_lr2 = X_train_lr2.drop(['const'], axis = 1)"
   ]
  },
  {
   "cell_type": "code",
   "execution_count": null,
   "id": "7dc84614",
   "metadata": {},
   "outputs": [],
   "source": [
    "#calculating the VIF of the model\n",
    "vif = pd.DataFrame()\n",
    "X = X_train_new_2\n",
    "vif['Features'] = X.columns\n",
    "vif['VIF'] = [variance_inflation_factor(X.values, i) for i in range(X.shape[1])]\n",
    "vif['VIF'] = round(vif['VIF'], 2)\n",
    "vif = vif.sort_values(by = 'VIF', ascending = False)\n",
    "vif"
   ]
  },
  {
   "cell_type": "code",
   "execution_count": null,
   "id": "122fbd1b",
   "metadata": {},
   "outputs": [],
   "source": [
    "#\"hum\" variable can be dropped due to a high VIF\n",
    "X_train_new_3 = X_train_lr2.drop(['hum'], axis = 1)"
   ]
  },
  {
   "cell_type": "code",
   "execution_count": null,
   "id": "21b1dafa",
   "metadata": {},
   "outputs": [],
   "source": [
    "#adding constant to training variable\n",
    "X_train_lr3 = sm.add_constant(X_train_new_3)\n",
    "\n",
    "#creating first training model with rfe selected variables\n",
    "lr = sm.OLS(y_train, X_train_lr3)\n",
    "lr_model = lr.fit()\n",
    "\n",
    "#summary\n",
    "lr_model.summary()"
   ]
  },
  {
   "cell_type": "code",
   "execution_count": null,
   "id": "0b187f77",
   "metadata": {},
   "outputs": [],
   "source": [
    "#dropping the constant variables from the dataset\n",
    "X_train_lr3 = X_train_lr3.drop(['const'], axis = 1)"
   ]
  },
  {
   "cell_type": "code",
   "execution_count": null,
   "id": "8dc47d7c",
   "metadata": {},
   "outputs": [],
   "source": [
    "#calculating the VIF of the model\n",
    "vif = pd.DataFrame()\n",
    "X = X_train_new_3\n",
    "vif['Features'] = X.columns\n",
    "vif['VIF'] = [variance_inflation_factor(X.values, i) for i in range(X.shape[1])]\n",
    "vif['VIF'] = round(vif['VIF'], 2)\n",
    "vif = vif.sort_values(by = 'VIF', ascending = False)\n",
    "vif"
   ]
  },
  {
   "cell_type": "markdown",
   "id": "cf74301a",
   "metadata": {},
   "source": [
    "<font color=blue>***Now VIF is not much greater than 5 and all varibale have low p values(<0.05),so we can take these variables for the final model***</font>"
   ]
  },
  {
   "cell_type": "markdown",
   "id": "1bfe0fd9",
   "metadata": {},
   "source": [
    "## <font color=green> Residual Analysis"
   ]
  },
  {
   "cell_type": "markdown",
   "id": "054e11d6",
   "metadata": {},
   "source": [
    "###  <font color=brown>Looking For Normality"
   ]
  },
  {
   "cell_type": "code",
   "execution_count": null,
   "id": "de1b76b1",
   "metadata": {},
   "outputs": [],
   "source": [
    "X_train_lr3 = sm.add_constant(X_train_lr3)\n",
    "X_train_lr3"
   ]
  },
  {
   "cell_type": "code",
   "execution_count": null,
   "id": "94d8eafb",
   "metadata": {},
   "outputs": [],
   "source": [
    "# Getting the y_train_pred for residual analysis\n",
    "y_train_pred = lr_model.predict(X_train_lr3)"
   ]
  },
  {
   "cell_type": "code",
   "execution_count": null,
   "id": "622d0b3f",
   "metadata": {},
   "outputs": [],
   "source": [
    "# Calclualting residuals:\n",
    "res = y_train - y_train_pred\n",
    "\n",
    "#Distribution of the error terms\n",
    "#Distribution should be centered around 0 and should be a normal distribution\n",
    "sns.distplot(res)\n",
    "plt.title('Error distribution')\n",
    "plt.show()"
   ]
  },
  {
   "cell_type": "markdown",
   "id": "57c3bc83",
   "metadata": {},
   "source": [
    "***We can see Error Terms are normally Distributed with mean Zero. Hence Model is Actaully obeying the assumption of Normality***"
   ]
  },
  {
   "cell_type": "markdown",
   "id": "900af7da",
   "metadata": {},
   "source": [
    "###  <font color=brown>Looking For Patterns in the Residuals"
   ]
  },
  {
   "cell_type": "code",
   "execution_count": null,
   "id": "c05710b0",
   "metadata": {},
   "outputs": [],
   "source": [
    "plt.figure(figsize = (12,6))\n",
    "sns.set_style(\"darkgrid\")\n",
    "plt.scatter(y_train_pred,res)\n",
    "plt.title('Residual Vs. Predicted Values')\n",
    "plt.xlabel('Predicted Values')\n",
    "plt.ylabel('Residuals')\n",
    "plt.show()"
   ]
  },
  {
   "cell_type": "markdown",
   "id": "e6c4962f",
   "metadata": {},
   "source": [
    "***We can see there is no specific Pattern observed in the Error Terms with respect to Prediction, hence we can say\n",
    "Error terms are independent of each other.*** "
   ]
  },
  {
   "cell_type": "markdown",
   "id": "164839bf",
   "metadata": {},
   "source": [
    "###  <font color=brown>Looking for Constant Variance"
   ]
  },
  {
   "cell_type": "code",
   "execution_count": null,
   "id": "79ed6aeb",
   "metadata": {},
   "outputs": [],
   "source": [
    "plt.figure(figsize = (12,6))\n",
    "sns.set_style(\"darkgrid\")\n",
    "sns.regplot(x=y_train, y=y_train_pred)\n",
    "plt.title('Predicted Points Vs. Actual Points')\n",
    "plt.xlabel('Actual Points')\n",
    "plt.ylabel('Predicted Points')\n",
    "plt.show()"
   ]
  },
  {
   "cell_type": "markdown",
   "id": "39d64e1e",
   "metadata": {},
   "source": [
    "***We can see Error Terms have approximatly a Constant Variance, Hence it follows the Assumption of Homoscedasticity***"
   ]
  },
  {
   "cell_type": "markdown",
   "id": "3fca0881",
   "metadata": {},
   "source": [
    "## <font color=green> Model Evaluation"
   ]
  },
  {
   "cell_type": "markdown",
   "id": "3bdf595f",
   "metadata": {},
   "source": [
    "##### Scaling features on test dataset\n",
    "\n",
    "- train dataset is to be fit, test dataset is not fit but simply transformed\n",
    "- test dataset is transformed based on fit of train dataset"
   ]
  },
  {
   "cell_type": "code",
   "execution_count": null,
   "id": "fb5e5faf",
   "metadata": {},
   "outputs": [],
   "source": [
    "#Perform scaling on test data set\n",
    "df_test[num_vars] = scaler.transform(df_test[num_vars])"
   ]
  },
  {
   "cell_type": "code",
   "execution_count": null,
   "id": "d8b0fafe",
   "metadata": {},
   "outputs": [],
   "source": [
    "df_test.describe().T"
   ]
  },
  {
   "cell_type": "code",
   "execution_count": null,
   "id": "3bcae618",
   "metadata": {},
   "outputs": [],
   "source": [
    "#Preparing the variables for model building \n",
    "\n",
    "y_test = df_test.pop('cnt')\n",
    "X_test = df_test"
   ]
  },
  {
   "cell_type": "code",
   "execution_count": null,
   "id": "9334f052",
   "metadata": {},
   "outputs": [],
   "source": [
    "X_test.head(5)"
   ]
  },
  {
   "cell_type": "code",
   "execution_count": null,
   "id": "3a38ad76",
   "metadata": {},
   "outputs": [],
   "source": [
    "#dropping constant\n",
    "X_train_lr3.drop(columns= 'const', inplace = True)"
   ]
  },
  {
   "cell_type": "code",
   "execution_count": null,
   "id": "5f4a2d8d",
   "metadata": {},
   "outputs": [],
   "source": [
    "# Creating new X_test dataset based on the feature variables using RFE\n",
    "X_test_new = X_test[X_train_lr3.columns]\n",
    "\n",
    "# Adding a constant variable\n",
    "X_test_new = sm.add_constant(X_test_new)\n",
    "\n",
    "#making predictions\n",
    "y_pred = lr_model.predict(X_test_new)"
   ]
  },
  {
   "cell_type": "code",
   "execution_count": null,
   "id": "a39028dc",
   "metadata": {},
   "outputs": [],
   "source": [
    "#build a scatter plot to observe relationship between the dependent and the feature variables\n",
    "sns.pairplot(df, y_vars='cnt', x_vars=X_train_lr3.columns)"
   ]
  },
  {
   "cell_type": "markdown",
   "id": "bddde0b9",
   "metadata": {},
   "source": [
    "##### We can now validate the assumptions of linear regression in the model:\n",
    "\n",
    "- As we can see, temperature has a linear relationship with the dependent variable \"cnt\". \n",
    "\n",
    "- As we have observed earlier every variable in our chosen model has a VIF<5 which ensures that there is no mulitcollinearity. \n",
    "\n",
    "- The error distribution as observed above is normal (ie concentrated around 0) which is another assumption of linear regression."
   ]
  },
  {
   "cell_type": "markdown",
   "id": "6e5abfef",
   "metadata": {},
   "source": [
    "###  <font color=brown>Model evaluation on test data"
   ]
  },
  {
   "cell_type": "code",
   "execution_count": null,
   "id": "b86a40be",
   "metadata": {},
   "outputs": [],
   "source": [
    "# R2 score of the test set\n",
    "r2_test = r2_score(y_true=y_test, y_pred=y_pred)\n",
    "print('r2 score on the test set is', r2_test)"
   ]
  },
  {
   "cell_type": "code",
   "execution_count": null,
   "id": "246d98bf",
   "metadata": {},
   "outputs": [],
   "source": [
    "#R2 score of the training set\n",
    "r2_train = r2_score(y_true=y_train, y_pred= y_train_pred)\n",
    "print('r2 score on the train set is', r2_train)"
   ]
  },
  {
   "cell_type": "code",
   "execution_count": null,
   "id": "5a2f0e75",
   "metadata": {},
   "outputs": [],
   "source": [
    "# Plotting y_test and y_pred to understand the spread\n",
    "\n",
    "fig = plt.figure()\n",
    "sns.regplot(x=y_test, y=y_pred, ci=52, fit_reg=True, line_kws={\"color\": \"red\"})\n",
    "plt.scatter(y_test, y_pred)\n",
    "fig.suptitle('y_test vs y_pred', fontsize = 16)               \n",
    "plt.xlabel('y_test', fontsize = 14)                          \n",
    "plt.ylabel('y_pred', fontsize = 14) \n",
    "plt.show()"
   ]
  },
  {
   "cell_type": "code",
   "execution_count": null,
   "id": "211c3690",
   "metadata": {},
   "outputs": [],
   "source": [
    "#finding out the mean squared error \n",
    "\n",
    "train_mse = (mean_squared_error(y_true=y_train, y_pred=y_train_pred))\n",
    "test_mse = (mean_squared_error(y_true=y_test, y_pred=y_pred))\n",
    "print('Mean squared error of the train set is', train_mse)\n",
    "print('Mean squared error of the test set is', test_mse)"
   ]
  },
  {
   "cell_type": "markdown",
   "id": "aab0b7f0",
   "metadata": {},
   "source": [
    "***Since our model's mean squared error is almost 0, it implies that our model accurately predicts the variance between in both the test and train datasets***"
   ]
  },
  {
   "cell_type": "markdown",
   "id": "e7e757b2",
   "metadata": {},
   "source": [
    "**1. Which variables are significant in predicting the demand for shared bikes.**<br>\n",
    "**2. How well those variables describe the bike demands**\n",
    "\n",
    "- The summary of the model after data interpretation, visualisation, data-preparation, model building and training, residual analysis and evaluation of test model are as follows-\n",
    "\n",
    "- The R-squared value of the train set is 84.13% whereas the test set has a value of 79.48% which suggests that our model broadly explains the variance quite accurately on the test set and thus we can conclude that it is a good model. \n",
    "\n",
    "- Our developed model's mean squared error is almost 0 on both the training and testing datasets which suggests that the variance is accurately predicted on the test set. The p-values and VIF were used to select the significant variables. RFE was also conducted for automated selection of variables.  \n",
    "\n"
   ]
  },
  {
   "cell_type": "markdown",
   "id": "c8196154",
   "metadata": {},
   "source": [
    "- <font color=blue>***Insights :***</font>\n",
    "\n",
    "\n",
    "- ***Temperature is the Most Significant Feature which affects the Business positively*** \n",
    "\n",
    "\n",
    "- ***Whereas  the other Environmental condition such as Raining, Humidity, Windspeed and Cloudy affects the Business negatively***\n",
    "\n",
    "\n",
    "- ***Company need to think how to tackle with bad weather condition and come up with sort of solution which protect users from Raining*** \n",
    "\n",
    "\n",
    "\n",
    "- ***The Demand of Bikes is more in the Winter and Summer season, mostly user don't like to travel using Bikes in Rainy Day or Rainy Season*** \n",
    "\n",
    "\n",
    "- ***It is interesting to see Specially Saturday People like to Rent a Bike more than other usual Days*** \n",
    "\n",
    "\n",
    "- ***Demand of Bike Rent has been significantly increased in the 2019 than 2018 so it is clear sign that Boom Bikes is doing a Business*** \n"
   ]
  }
 ],
 "metadata": {
  "kernelspec": {
   "display_name": "Python 3 (ipykernel)",
   "language": "python",
   "name": "python3"
  },
  "language_info": {
   "codemirror_mode": {
    "name": "ipython",
    "version": 3
   },
   "file_extension": ".py",
   "mimetype": "text/x-python",
   "name": "python",
   "nbconvert_exporter": "python",
   "pygments_lexer": "ipython3",
   "version": "3.9.7"
  },
  "toc": {
   "base_numbering": 1,
   "nav_menu": {},
   "number_sections": true,
   "sideBar": true,
   "skip_h1_title": false,
   "title_cell": "Table of Contents",
   "title_sidebar": "Contents",
   "toc_cell": false,
   "toc_position": {
    "height": "calc(100% - 180px)",
    "left": "10px",
    "top": "150px",
    "width": "307.2px"
   },
   "toc_section_display": true,
   "toc_window_display": true
  }
 },
 "nbformat": 4,
 "nbformat_minor": 5
}
